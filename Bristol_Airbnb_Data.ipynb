{
  "nbformat": 4,
  "nbformat_minor": 0,
  "metadata": {
    "colab": {
      "name": "Bristol_Airbnb_Data.ipynb",
      "provenance": [],
      "collapsed_sections": [],
      "authorship_tag": "ABX9TyPYqfIUDOGhQabak32xVeXT",
      "include_colab_link": true
    },
    "kernelspec": {
      "name": "python3",
      "display_name": "Python 3"
    },
    "language_info": {
      "name": "python"
    }
  },
  "cells": [
    {
      "cell_type": "markdown",
      "metadata": {
        "id": "view-in-github",
        "colab_type": "text"
      },
      "source": [
        "<a href=\"https://colab.research.google.com/github/CostaNathan/ProjectsFCC/blob/main/Bristol_Airbnb_Data.ipynb\" target=\"_parent\"><img src=\"https://colab.research.google.com/assets/colab-badge.svg\" alt=\"Open In Colab\"/></a>"
      ]
    },
    {
      "cell_type": "markdown",
      "metadata": {
        "id": "nuLDr1pTSTiY"
      },
      "source": [
        "### Data sample from Kaggle regarding Bristol Airbnb data"
      ]
    },
    {
      "cell_type": "markdown",
      "metadata": {
        "id": "gC73V0poUmDX"
      },
      "source": [
        "What is the problem?\n",
        "  (1) Problem 1: John wants to rent a place in Bristol, however he has a limited amount of money to spend. He aims to stay there for at least one week, or as long as he can with $1000,00. \n",
        "\n",
        "    - What places could he stay for a maximum of one week? \n",
        "    - What places could he stay for more than one week? \n",
        "    - What places could he stay for more than one week, if he required only a private room?\n",
        "    - Which region of Bristol has more places available for the fisrt, second and third questions\n",
        "    - Regarding first question, what is the most to least expensive place he can afford?\n",
        "    - Regarding second question, and if he required an entire home with only one bedroom?\n",
        "\n",
        "The answers must be provided through graphics, charts, or other visual aids.\n"
      ]
    },
    {
      "cell_type": "code",
      "metadata": {
        "id": "uyNsaCy8SPhD"
      },
      "source": [
        "!"
      ],
      "execution_count": null,
      "outputs": []
    },
    {
      "cell_type": "code",
      "metadata": {
        "id": "lqDUyC1XUlZf"
      },
      "source": [
        ""
      ],
      "execution_count": null,
      "outputs": []
    }
  ]
}